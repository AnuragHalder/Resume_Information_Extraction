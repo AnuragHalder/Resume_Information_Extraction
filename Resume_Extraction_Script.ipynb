{
 "cells": [
  {
   "cell_type": "code",
   "execution_count": 90,
   "metadata": {},
   "outputs": [],
   "source": [
    "import PyPDF2\n",
    "import re\n",
    "import spacy\n",
    "from spacy import displacy\n",
    "import en_core_web_sm\n",
    "nlp = en_core_web_sm.load()\n",
    "import os\n",
    "import nltk\n",
    "import pandas as pd\n",
    "import docx2txt\n",
    "import datetime"
   ]
  },
  {
   "cell_type": "code",
   "execution_count": 49,
   "metadata": {},
   "outputs": [
    {
     "name": "stdout",
     "output_type": "stream",
     "text": [
      "Number of resumes found: 13\n"
     ]
    }
   ],
   "source": [
    "resumes = os.listdir('./resumes')\n",
    "print ('Number of resumes found: {}'.format(len(resumes)))"
   ]
  },
  {
   "cell_type": "code",
   "execution_count": 50,
   "metadata": {},
   "outputs": [
    {
     "name": "stdout",
     "output_type": "stream",
     "text": [
      "Completed 13 out of 13                                                                                                                                 \r"
     ]
    }
   ],
   "source": [
    "applicant_path = list()\n",
    "applicant_name = list()\n",
    "applicant_email = list()\n",
    "applicant_phone = list()\n",
    "\n",
    "counter = 0\n",
    "for resume in resumes:\n",
    "    counter = counter + 1\n",
    "    if resume.split('.')[1] =='pdf':\n",
    "        text_all = ''\n",
    "        pdf_file = open('./resumes/' + resume, 'rb')\n",
    "        pdfReader = PyPDF2.PdfFileReader(pdf_file)\n",
    "        count = pdfReader.numPages\n",
    "        for i in range(count):\n",
    "            page = pdfReader.getPage(i)\n",
    "            text_all = text_all + ' ' + page.extractText()\n",
    "    else:\n",
    "        text_all = docx2txt.process('./resumes/' + resume)\n",
    "    \n",
    "    text = text_all.replace(':',': ')\n",
    "    email = re.findall('\\S+@\\S+', text)  \n",
    "    \n",
    "    #print('Emaild found: {}'.format(email[0]))\n",
    "    applicant_email.append(email[0])\n",
    "    applicant_path.append('./resumes/' + resume)\n",
    "    \n",
    "    text = text_all.replace('-','')\n",
    "    text = text.title()\n",
    "    text = text.replace(':','')\n",
    "    text = text.replace('\\n','')\n",
    "    text = text.replace('.','')\n",
    "    text = text.replace('(','')\n",
    "    text = text.replace(')','')\n",
    "    text = text.replace('!','')\n",
    "    phone = [x for x in re.findall('\\d+',text) if len(x)>6]\n",
    "    #print ('Contact Number found: {}'.format(phone[0]))\n",
    "    applicant_phone.append(phone[0])\n",
    "    \n",
    "    \n",
    "    extract_names = list()\n",
    "\n",
    "    for sent in nltk.sent_tokenize(text):\n",
    "        tokens = nltk.tokenize.word_tokenize(sent)\n",
    "        tags = st.tag(tokens)\n",
    "        if len(extract_names)>1:\n",
    "            break\n",
    "        else:\n",
    "            for tag in tags:\n",
    "                if tag[1]=='PERSON':\n",
    "                    extract_names.append(tag[0])\n",
    "                    if (len(extract_names))>1:\n",
    "                        break   \n",
    "    try:\n",
    "        name = extract_names[0] + ' ' + extract_names[1]\n",
    "    except:\n",
    "        name = 'Not Found'\n",
    "    #print('Name found: {}'.format(name))\n",
    "    applicant_name.append(name)\n",
    "    \n",
    "    print('Completed {} out of {}'.format(counter, str(len(resumes))), end = '          \\r')\n",
    "    \n",
    "df = pd.DataFrame()\n",
    "df['applicant_path'] = applicant_path                           \n",
    "df['applicant_name'] = applicant_name \n",
    "df['applicant_phone'] = applicant_phone\n",
    "df['applicant_email'] = applicant_email\n",
    "df.to_excel('resume_summary.xlsx')"
   ]
  },
  {
   "cell_type": "code",
   "execution_count": 115,
   "metadata": {},
   "outputs": [],
   "source": [
    "def extract_resume_info(full_path_to_resume_folder, full_path_to_output_folder):\n",
    "    \n",
    "    resumes = os.listdir(full_path_to_resume_folder)\n",
    "    print ('Number of resumes found: {}'.format(len(resumes)))\n",
    "    \n",
    "    applicant_path = list()\n",
    "    applicant_name = list()\n",
    "    applicant_email = list()\n",
    "    applicant_phone = list()\n",
    "    \n",
    "    counter = 0\n",
    "    for resume in resumes:\n",
    "        counter = counter + 1\n",
    "        if resume.split('.')[1] =='pdf':\n",
    "            text_all = ''\n",
    "            pdf_file = open(full_path_to_resume_folder + '/' + resume, 'rb')\n",
    "            pdfReader = PyPDF2.PdfFileReader(pdf_file)\n",
    "            count = pdfReader.numPages\n",
    "            for i in range(count):\n",
    "                page = pdfReader.getPage(i)\n",
    "                text_all = text_all + ' ' + page.extractText()\n",
    "        else:\n",
    "            text_all = docx2txt.process(full_path_to_resume_folder + '/' + resume)\n",
    "        \n",
    "        text = text_all.replace(':',': ')\n",
    "        email = re.findall('\\S+@\\S+', text)  \n",
    "        \n",
    "        #print('Emaild found: {}'.format(email[0]))\n",
    "        applicant_email.append(email[0])\n",
    "        applicant_path.append(full_path_to_resume_folder + '/' + resume)\n",
    "        \n",
    "        text = text_all.replace('-','')\n",
    "        text = text.title()\n",
    "        text = text.replace(':','')\n",
    "        text = text.replace('\\n','')\n",
    "        text = text.replace('.','')\n",
    "        text = text.replace('(','')\n",
    "        text = text.replace(')','')\n",
    "        text = text.replace('!','')\n",
    "        phone = [x for x in re.findall('\\d+',text) if len(x)>6]\n",
    "        #print ('Contact Number found: {}'.format(phone[0]))\n",
    "        applicant_phone.append(phone[0])\n",
    "        \n",
    "        \n",
    "        extract_names = list()\n",
    "    \n",
    "        for sent in nltk.sent_tokenize(text):\n",
    "            tokens = nltk.tokenize.word_tokenize(sent)\n",
    "            tags = st.tag(tokens)\n",
    "            if len(extract_names)>1:\n",
    "                break\n",
    "            else:\n",
    "                for tag in tags:\n",
    "                    if tag[1]=='PERSON':\n",
    "                        extract_names.append(tag[0])\n",
    "                        if (len(extract_names))>1:\n",
    "                            break   \n",
    "        try:\n",
    "            name = extract_names[0] + ' ' + extract_names[1]\n",
    "        except:\n",
    "            name = 'Not Found'\n",
    "        #print('Name found: {}'.format(name))\n",
    "        applicant_name.append(name)\n",
    "        \n",
    "        print('Completed {} out of {}'.format(counter, str(len(resumes))), end = '          \\r')\n",
    "        \n",
    "        \n",
    "    df = pd.DataFrame()\n",
    "    df['applicant_path'] = applicant_path                           \n",
    "    df['applicant_name'] = applicant_name \n",
    "    df['applicant_phone'] = applicant_phone\n",
    "    df['applicant_email'] = applicant_email\n",
    "    \n",
    "    extract_current_time = datetime.datetime.now()\n",
    "    append_datetime = str(extract_current_time.year)+str(extract_current_time.month)+str(extract_current_time.day)+str(extract_current_time.hour)+str(extract_current_time.minute)+str(extract_current_time.second)\n",
    "    \n",
    "    df.to_excel(full_path_to_output_folder + '/' +'resume_summary_' + append_datetime +'.xlsx')"
   ]
  },
  {
   "cell_type": "code",
   "execution_count": 27,
   "metadata": {},
   "outputs": [
    {
     "data": {
      "text/plain": [
       "'DARON ACEMOGLU'"
      ]
     },
     "execution_count": 27,
     "metadata": {},
     "output_type": "execute_result"
    }
   ],
   "source": [
    "#doc = nlp(text)\n",
    "    #names = [X.text for X in doc.ents if X.label_=='PERSON']\n",
    "    #for i in range(len(names)):\n",
    "    #    cond = (len(names[i].strip()) - len(names[i].strip().replace(' ','')))\n",
    "    #    name = 'Not Found'\n",
    "    #    if cond >0 and cond <4 and len(names[i])<30:\n",
    "    #        name = names[i]\n",
    "    #    break"
   ]
  },
  {
   "cell_type": "code",
   "execution_count": 119,
   "metadata": {},
   "outputs": [
    {
     "name": "stdout",
     "output_type": "stream",
     "text": [
      "Number of resumes found: 13\n",
      "Completed 13 out of 13                                                                                                                                 \r"
     ]
    }
   ],
   "source": [
    "extract_resume_info('D:\\\\AnuragHalder\\\\Learning\\\\Resume Extraction\\\\resumes', 'D:\\\\AnuragHalder\\\\Learning\\\\Resume Extraction')"
   ]
  }
 ],
 "metadata": {
  "kernelspec": {
   "display_name": "Python 3",
   "language": "python",
   "name": "python3"
  },
  "language_info": {
   "codemirror_mode": {
    "name": "ipython",
    "version": 3
   },
   "file_extension": ".py",
   "mimetype": "text/x-python",
   "name": "python",
   "nbconvert_exporter": "python",
   "pygments_lexer": "ipython3",
   "version": "3.6.7"
  }
 },
 "nbformat": 4,
 "nbformat_minor": 2
}
